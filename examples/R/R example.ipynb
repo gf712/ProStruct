{
 "cells": [
  {
   "cell_type": "code",
   "execution_count": 1,
   "metadata": {},
   "outputs": [],
   "source": [
    "dyn.load(paste(\"prostruct\", .Platform$dynlib.ext, sep=\"\"))\n",
    "source(\"prostruct.R\")\n",
    "cacheMetaData(1)"
   ]
  },
  {
   "cell_type": "code",
   "execution_count": 2,
   "metadata": {},
   "outputs": [],
   "source": [
    "pdb <- PDB_float(\"../../../test.pdb\")"
   ]
  },
  {
   "cell_type": "code",
   "execution_count": 3,
   "metadata": {},
   "outputs": [],
   "source": [
    "radii = pdb$get_radii()"
   ]
  },
  {
   "cell_type": "code",
   "execution_count": 4,
   "metadata": {},
   "outputs": [
    {
     "data": {
      "text/html": [
       "1.64999997615814"
      ],
      "text/latex": [
       "1.64999997615814"
      ],
      "text/markdown": [
       "1.64999997615814"
      ],
      "text/plain": [
       "[1] 1.65"
      ]
     },
     "metadata": {},
     "output_type": "display_data"
    }
   ],
   "source": [
    "radii[1]"
   ]
  },
  {
   "cell_type": "code",
   "execution_count": 5,
   "metadata": {},
   "outputs": [],
   "source": [
    "ks = pdb$compute_kabsch_sander() "
   ]
  },
  {
   "cell_type": "code",
   "execution_count": 6,
   "metadata": {},
   "outputs": [
    {
     "data": {
      "text/html": [
       "-254.657772521532"
      ],
      "text/latex": [
       "-254.657772521532"
      ],
      "text/markdown": [
       "-254.657772521532"
      ],
      "text/plain": [
       "[1] -254.6578"
      ]
     },
     "metadata": {},
     "output_type": "display_data"
    }
   ],
   "source": [
    "sum(ks)"
   ]
  },
  {
   "cell_type": "code",
   "execution_count": 7,
   "metadata": {},
   "outputs": [
    {
     "data": {
      "text/html": [
       "160"
      ],
      "text/latex": [
       "160"
      ],
      "text/markdown": [
       "160"
      ],
      "text/plain": [
       "[1] 160"
      ]
     },
     "metadata": {},
     "output_type": "display_data"
    }
   ],
   "source": [
    "sum(ks < -0.5)"
   ]
  },
  {
   "cell_type": "code",
   "execution_count": 8,
   "metadata": {},
   "outputs": [
    {
     "data": {
      "text/html": [
       "160"
      ],
      "text/latex": [
       "160"
      ],
      "text/markdown": [
       "160"
      ],
      "text/plain": [
       "[1] 160"
      ]
     },
     "metadata": {},
     "output_type": "display_data"
    }
   ],
   "source": [
    "sum(pdb$predict_backbone_hbonds())"
   ]
  },
  {
   "cell_type": "code",
   "execution_count": 9,
   "metadata": {},
   "outputs": [
    {
     "data": {
      "text/html": [
       "<table>\n",
       "<tbody>\n",
       "\t<tr><td>2.462 </td><td> 8.163</td><td>31.205</td></tr>\n",
       "\t<tr><td>2.112 </td><td> 9.494</td><td>30.647</td></tr>\n",
       "\t<tr><td>2.091 </td><td> 9.533</td><td>29.120</td></tr>\n",
       "\t<tr><td>2.372 </td><td> 8.525</td><td>28.476</td></tr>\n",
       "\t<tr><td>3.040 </td><td>10.558</td><td>31.262</td></tr>\n",
       "\t<tr><td>2.605 </td><td>10.841</td><td>32.701</td></tr>\n",
       "\t<tr><td>1.952 </td><td> 9.926</td><td>33.251</td></tr>\n",
       "\t<tr><td>2.835 </td><td>11.975</td><td>33.156</td></tr>\n",
       "\t<tr><td>1.703 </td><td>10.678</td><td>28.542</td></tr>\n",
       "\t<tr><td>2.033 </td><td>11.037</td><td>27.151</td></tr>\n",
       "</tbody>\n",
       "</table>\n"
      ],
      "text/latex": [
       "\\begin{tabular}{lll}\n",
       "\t 2.462  &  8.163 & 31.205\\\\\n",
       "\t 2.112  &  9.494 & 30.647\\\\\n",
       "\t 2.091  &  9.533 & 29.120\\\\\n",
       "\t 2.372  &  8.525 & 28.476\\\\\n",
       "\t 3.040  & 10.558 & 31.262\\\\\n",
       "\t 2.605  & 10.841 & 32.701\\\\\n",
       "\t 1.952  &  9.926 & 33.251\\\\\n",
       "\t 2.835  & 11.975 & 33.156\\\\\n",
       "\t 1.703  & 10.678 & 28.542\\\\\n",
       "\t 2.033  & 11.037 & 27.151\\\\\n",
       "\\end{tabular}\n"
      ],
      "text/markdown": [
       "\n",
       "| 2.462  |  8.163 | 31.205 |\n",
       "| 2.112  |  9.494 | 30.647 |\n",
       "| 2.091  |  9.533 | 29.120 |\n",
       "| 2.372  |  8.525 | 28.476 |\n",
       "| 3.040  | 10.558 | 31.262 |\n",
       "| 2.605  | 10.841 | 32.701 |\n",
       "| 1.952  |  9.926 | 33.251 |\n",
       "| 2.835  | 11.975 | 33.156 |\n",
       "| 1.703  | 10.678 | 28.542 |\n",
       "| 2.033  | 11.037 | 27.151 |\n",
       "\n"
      ],
      "text/plain": [
       "      [,1]  [,2]   [,3]  \n",
       " [1,] 2.462  8.163 31.205\n",
       " [2,] 2.112  9.494 30.647\n",
       " [3,] 2.091  9.533 29.120\n",
       " [4,] 2.372  8.525 28.476\n",
       " [5,] 3.040 10.558 31.262\n",
       " [6,] 2.605 10.841 32.701\n",
       " [7,] 1.952  9.926 33.251\n",
       " [8,] 2.835 11.975 33.156\n",
       " [9,] 1.703 10.678 28.542\n",
       "[10,] 2.033 11.037 27.151"
      ]
     },
     "metadata": {},
     "output_type": "display_data"
    }
   ],
   "source": [
    "pdb$get_xyz()[1:10,]"
   ]
  },
  {
   "cell_type": "code",
   "execution_count": null,
   "metadata": {},
   "outputs": [],
   "source": []
  }
 ],
 "metadata": {
  "kernelspec": {
   "display_name": "R",
   "language": "R",
   "name": "ir"
  },
  "language_info": {
   "codemirror_mode": "r",
   "file_extension": ".r",
   "mimetype": "text/x-r-source",
   "name": "R",
   "pygments_lexer": "r",
   "version": "3.5.1"
  }
 },
 "nbformat": 4,
 "nbformat_minor": 2
}
