{
 "cells": [
  {
   "cell_type": "markdown",
   "metadata": {},
   "source": [
    "## Extending ProStruct with Python"
   ]
  },
  {
   "cell_type": "code",
   "execution_count": 1,
   "metadata": {},
   "outputs": [],
   "source": [
    "import prostruct\n",
    "import numpy as np\n",
    "import math\n",
    "\n",
    "# pure python functions are faster than numpy for \n",
    "# small vectors/non vectorised functions \n",
    "def dot3(a, b):\n",
    "    return sum([(a_i*b_i) for a_i, b_i in zip(a, b)])\n",
    "\n",
    "def cross3(a, b):\n",
    "    return [a[1]*b[2] - a[2]*b[1], a[2]*b[0]-a[0]*b[2], a[0]*b[1]-a[1]*b[0]]\n",
    "\n",
    "def dihedral(a1, a2, a3, a4):\n",
    "    d1 = a1-a2\n",
    "    d2 = a2-a3\n",
    "    d3 = a3-a4\n",
    "    b1 = (d1) / np.linalg.norm(d1)\n",
    "    b2 = (d2) / np.linalg.norm(d2)\n",
    "    b3 = (d3) / np.linalg.norm(d3)\n",
    "    n1 = cross3(b1, b2)\n",
    "    n2 = cross3(b2, b3)\n",
    "    return math.degrees(math.atan2(dot3(cross3(n1, b2), n2), dot3(n1, n2)))\n",
    "\n",
    "class MyStruct(prostruct.CustomPDB): \n",
    "    def custom_kernel(self, a, b):\n",
    "        a = a.get_backbone_atoms()\n",
    "        b = b.get_backbone_atoms()\n",
    "        return dihedral(a[2], b[0], b[1], b[2])"
   ]
  },
  {
   "cell_type": "code",
   "execution_count": 2,
   "metadata": {},
   "outputs": [],
   "source": [
    "pdb = MyStruct(\"../../../test.pdb\")"
   ]
  },
  {
   "cell_type": "code",
   "execution_count": 3,
   "metadata": {},
   "outputs": [
    {
     "data": {
      "text/plain": [
       "<prostruct.PDB float precision, with 1867 atoms, 236 residues at 0x55619f2d22a0>"
      ]
     },
     "execution_count": 3,
     "metadata": {},
     "output_type": "execute_result"
    }
   ],
   "source": [
    "pdb"
   ]
  },
  {
   "cell_type": "code",
   "execution_count": 4,
   "metadata": {},
   "outputs": [
    {
     "name": "stdout",
     "output_type": "stream",
     "text": [
      "8.94 ms ± 1.38 ms per loop (mean ± std. dev. of 7 runs, 100 loops each)\n"
     ]
    }
   ],
   "source": [
    "# with python implementation\n",
    "%timeit pdb.run_custom_kernel()"
   ]
  },
  {
   "cell_type": "code",
   "execution_count": 5,
   "metadata": {},
   "outputs": [
    {
     "name": "stdout",
     "output_type": "stream",
     "text": [
      "12.4 µs ± 1.39 µs per loop (mean ± std. dev. of 7 runs, 100000 loops each)\n"
     ]
    }
   ],
   "source": [
    "# much faster (almost 3 orders of magnitude faster)\n",
    "%timeit pdb.calculate_phi()"
   ]
  },
  {
   "cell_type": "code",
   "execution_count": 6,
   "metadata": {},
   "outputs": [
    {
     "data": {
      "text/plain": [
       "array([ -69.337006, -133.41187 , -120.3177  , -102.3891  ,  -94.71912 ,\n",
       "       -138.65765 ,  -66.235054,  -76.0483  , -139.28873 , -136.68294 ,\n",
       "        -76.06559 , -143.39508 ,  -66.428116,  -62.458706,   82.80521 ,\n",
       "        -64.59577 ,  -82.87559 ,  -98.586426, -134.31032 , -122.848854,\n",
       "       -101.42037 , -157.77371 , -110.94793 ,  -91.86946 ,  -71.31498 ,\n",
       "       -154.61761 ,  -57.16444 , -100.23258 ,  -67.524   ,  -77.13684 ,\n",
       "        -55.50057 ,  -99.62578 ,   86.937645, -103.419136, -119.52794 ,\n",
       "        -71.52652 , -119.19695 , -130.72379 , -146.96056 , -140.68657 ,\n",
       "       -125.35315 , -110.42541 ,  -76.84396 ,  -49.87192 ,   68.4221  ,\n",
       "        -95.02083 ,  -57.79741 ,  -63.16061 , -134.48965 ,  -59.8783  ,\n",
       "       -119.90971 , -144.67488 , -159.37997 ,   35.841885,   82.76004 ,\n",
       "       -137.41612 , -117.15545 , -102.0791  ,  -62.144516,  -60.305027,\n",
       "         91.5626  ,  -78.7855  ,  -65.14505 ,  -62.12854 ,  -57.483463,\n",
       "        -76.94548 , -142.64247 , -130.85854 , -135.53024 , -150.1044  ,\n",
       "       -148.30505 ,   58.772102, -130.58168 ,  -97.88508 , -140.86464 ,\n",
       "       -135.45352 ,  -65.50138 , -124.99026 , -117.616646,  -90.24501 ,\n",
       "         62.69698 ,  -45.019905, -117.97662 ,  -61.92498 ,  -90.81362 ,\n",
       "        -66.945694,  -53.126034,  162.2838  , -109.81548 ,  -81.750885,\n",
       "       -127.96236 , -115.997635, -150.20451 ,  -81.98591 , -140.88687 ,\n",
       "        -50.87495 , -139.8131  ,   59.3331  , -146.07582 , -153.44798 ,\n",
       "       -115.748566,  -83.789246,  -65.37214 ,   86.09648 , -142.64136 ,\n",
       "        -80.57571 ,  -77.67376 , -122.11293 ,  -82.521   ,  -65.461945,\n",
       "        -96.932274,  -70.131065, -179.31293 ,  -92.43021 , -128.74362 ,\n",
       "       -137.73436 , -117.54663 ,  -91.520775, -149.9553  ,   74.82964 ,\n",
       "        -68.433716,  141.22963 , -122.587555, -117.15359 ,  -66.27529 ,\n",
       "        -46.425392,   92.77298 ,  -68.836174, -128.82225 , -138.1698  ,\n",
       "       -135.70274 ,  -57.287384, -139.8808  , -137.58871 ,  -84.28027 ,\n",
       "        -92.69535 , -135.2811  ,   72.75943 , -150.81514 ,  -62.05076 ,\n",
       "        -41.039352,  -47.401787, -100.983894, -139.25534 ,  -75.447975,\n",
       "       -144.30898 , -133.13164 , -115.1145  , -136.12006 , -139.14882 ,\n",
       "       -140.2495  ,  -66.35773 ,  -50.807682,   60.371117, -126.81423 ,\n",
       "        -62.60259 ,  -77.09868 , -121.52694 ,  -65.45136 , -107.3479  ,\n",
       "       -163.44922 , -140.75763 , -134.00468 ,  -48.926197,  -42.88497 ,\n",
       "       -112.926285,   80.451164,  -61.83773 , -135.64305 , -134.99408 ,\n",
       "       -142.91174 , -139.54028 ,  -67.87078 ,  -61.827507,  -78.25069 ,\n",
       "       -126.98826 ,  -59.122498,   67.959625, -131.3596  , -107.32339 ,\n",
       "       -125.41183 ,  -69.73012 , -146.95123 , -141.29558 , -131.18388 ,\n",
       "        -75.17512 ,  -74.623184,  -80.01054 ,   42.950584, -138.34718 ,\n",
       "        -94.99115 , -115.17582 , -138.62286 ,  -69.97536 , -144.67163 ,\n",
       "        -83.11889 ,   44.204533,  -57.106636, -141.5895  ,  -52.685123,\n",
       "        -69.281906,  -92.11543 ,  -59.27485 , -175.31664 , -107.02505 ,\n",
       "        -89.44924 , -113.70809 ,  -60.422367, -126.44122 ,  -99.72274 ,\n",
       "        -91.18658 ,  -37.04346 , -121.254456,  -60.471977, -147.92146 ,\n",
       "        -79.35093 ,  -84.43912 ,  -43.07183 ,  -52.898754,  -91.15646 ,\n",
       "        -91.57346 ,   62.133038,  -53.84908 ,  -88.43162 , -125.33384 ,\n",
       "        -69.55303 ,  -70.41626 ,  102.07817 , -128.2691  ,  -73.92634 ,\n",
       "       -125.64584 , -119.78901 , -100.8579  , -151.72632 ,  -93.25184 ,\n",
       "          0.      ], dtype=float32)"
      ]
     },
     "execution_count": 6,
     "metadata": {},
     "output_type": "execute_result"
    }
   ],
   "source": [
    "# same result though\n",
    "pdb.run_custom_kernel()"
   ]
  },
  {
   "cell_type": "markdown",
   "metadata": {},
   "source": [
    "## Comparisson with other tools"
   ]
  },
  {
   "cell_type": "markdown",
   "metadata": {},
   "source": [
    "### Biopython"
   ]
  },
  {
   "cell_type": "code",
   "execution_count": 7,
   "metadata": {},
   "outputs": [],
   "source": [
    "import Bio.PDB\n",
    "struct = Bio.PDB.PDBParser().get_structure(\"test\", \"../../../test.pdb\")\n",
    "model = struct[0]\n",
    "chain1, chain2 = list(model.get_chains())"
   ]
  },
  {
   "cell_type": "code",
   "execution_count": 8,
   "metadata": {},
   "outputs": [
    {
     "name": "stdout",
     "output_type": "stream",
     "text": [
      "44.8 ms ± 48.9 µs per loop (mean ± std. dev. of 7 runs, 10 loops each)\n"
     ]
    }
   ],
   "source": [
    "%timeit [Bio.PDB.Polypeptide.Polypeptide(chain).get_phi_psi_list() for chain in model]"
   ]
  },
  {
   "cell_type": "code",
   "execution_count": 9,
   "metadata": {},
   "outputs": [
    {
     "name": "stdout",
     "output_type": "stream",
     "text": [
      "21.5 ms ± 102 µs per loop (mean ± std. dev. of 7 runs, 10 loops each)\n"
     ]
    }
   ],
   "source": [
    "%timeit Bio.PDB.Polypeptide.Polypeptide(chain1).get_phi_psi_list()"
   ]
  },
  {
   "cell_type": "markdown",
   "metadata": {},
   "source": [
    "### MDTraj"
   ]
  },
  {
   "cell_type": "code",
   "execution_count": 10,
   "metadata": {},
   "outputs": [],
   "source": [
    "import mdtraj as md"
   ]
  },
  {
   "cell_type": "code",
   "execution_count": 11,
   "metadata": {},
   "outputs": [
    {
     "data": {
      "text/plain": [
       "<mdtraj.Trajectory with 1 frames, 1867 atoms, 236 residues, without unitcells at 0x7f5e4d1f1eb8>"
      ]
     },
     "execution_count": 11,
     "metadata": {},
     "output_type": "execute_result"
    }
   ],
   "source": [
    "pdb = md.load_pdb(\"../../../test.pdb\")\n",
    "pdb"
   ]
  },
  {
   "cell_type": "code",
   "execution_count": 12,
   "metadata": {},
   "outputs": [
    {
     "name": "stdout",
     "output_type": "stream",
     "text": [
      "666 µs ± 1.04 µs per loop (mean ± std. dev. of 7 runs, 1000 loops each)\n"
     ]
    }
   ],
   "source": [
    "%timeit md.compute_phi(pdb)"
   ]
  },
  {
   "cell_type": "markdown",
   "metadata": {},
   "source": [
    "### Pure python with MDTraj atom selection"
   ]
  },
  {
   "cell_type": "code",
   "execution_count": 13,
   "metadata": {},
   "outputs": [
    {
     "name": "stdout",
     "output_type": "stream",
     "text": [
      "8.08 ms ± 59.6 µs per loop (mean ± std. dev. of 7 runs, 100 loops each)\n"
     ]
    }
   ],
   "source": [
    "%%timeit\n",
    "backbone=pdb.top.select(\"backbone\")\n",
    "xyz=pdb.xyz[0]\n",
    "result = np.empty(int(backbone.size/4))\n",
    "for i in range(int(backbone.size/4)-1):\n",
    "    result[i]=dihedral(\n",
    "        xyz[backbone[i*4+2]], xyz[backbone[(i+1)*4]], xyz[backbone[(i+1)*4+1]], xyz[backbone[(i+1)*4+2]])"
   ]
  },
  {
   "cell_type": "markdown",
   "metadata": {},
   "source": [
    "## It seems like ProStruct is still falling behind with the Python extensions! But the C++ library is much faster than other tools!"
   ]
  },
  {
   "cell_type": "code",
   "execution_count": null,
   "metadata": {},
   "outputs": [],
   "source": []
  }
 ],
 "metadata": {
  "kernelspec": {
   "display_name": "Python 3",
   "language": "python",
   "name": "python3"
  },
  "language_info": {
   "codemirror_mode": {
    "name": "ipython",
    "version": 3
   },
   "file_extension": ".py",
   "mimetype": "text/x-python",
   "name": "python",
   "nbconvert_exporter": "python",
   "pygments_lexer": "ipython3",
   "version": "3.7.2"
  }
 },
 "nbformat": 4,
 "nbformat_minor": 2
}
