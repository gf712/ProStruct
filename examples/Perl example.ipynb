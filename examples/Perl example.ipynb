{
 "cells": [
  {
   "cell_type": "code",
   "execution_count": 1,
   "metadata": {},
   "outputs": [],
   "source": [
    "use prostruct;"
   ]
  },
  {
   "cell_type": "code",
   "execution_count": 2,
   "metadata": {},
   "outputs": [
    {
     "data": {
      "text/plain": [
       "prostruct::PDB_float=HASH(0x7fbab7f93df8)"
      ]
     },
     "execution_count": 2,
     "metadata": {},
     "output_type": "execute_result"
    }
   ],
   "source": [
    "my $file = \"../../../test.pdb\";\n",
    "my $a = new prostruct::PDB_float($file);"
   ]
  },
  {
   "cell_type": "code",
   "execution_count": 3,
   "metadata": {},
   "outputs": [
    {
     "data": {
      "text/plain": [
       "ARRAY(0x7fbab7fa3a70)"
      ]
     },
     "execution_count": 3,
     "metadata": {},
     "output_type": "execute_result"
    }
   ],
   "source": [
    "my $radii = $a->get_radii();"
   ]
  },
  {
   "cell_type": "code",
   "execution_count": 4,
   "metadata": {},
   "outputs": [
    {
     "name": "stdout",
     "output_type": "stream",
     "text": [
      "Atom-0: '1.64999997615814'\n",
      "Atom-1: '1.87000000476837'\n",
      "Atom-2: '1.75999999046326'\n",
      "Atom-3: '1.39999997615814'\n",
      "Atom-4: '1.87000000476837'\n",
      "Atom-5: '1.75999999046326'\n",
      "Atom-6: '1.39999997615814'\n",
      "Atom-7: '1.39999997615814'\n",
      "Atom-8: '1.64999997615814'\n",
      "Atom-9: '1.87000000476837'\n",
      "Atom-10: '1.75999999046326'\n"
     ]
    }
   ],
   "source": [
    "my $i = 0;\n",
    "for ( @$radii ) {\n",
    "    print \"Atom-$i: '$_'\\n\";\n",
    "    $i=$i+1;\n",
    "    if ($i > 10) {\n",
    "        last;\n",
    "    }\n",
    "}"
   ]
  },
  {
   "cell_type": "code",
   "execution_count": 5,
   "metadata": {},
   "outputs": [
    {
     "data": {
      "text/plain": [
       "<prostruct.PDB float precision, with 1867 atoms, 236 residues at 0x7fbab831e8c0>"
      ]
     },
     "execution_count": 5,
     "metadata": {},
     "output_type": "execute_result"
    }
   ],
   "source": [
    "$a->to_string()"
   ]
  },
  {
   "cell_type": "code",
   "execution_count": 6,
   "metadata": {},
   "outputs": [
    {
     "data": {
      "text/plain": [
       "ARRAY(0x7fbab997a558)"
      ]
     },
     "execution_count": 6,
     "metadata": {},
     "output_type": "execute_result"
    }
   ],
   "source": [
    "my $ks = $a->compute_kabsch_sander();\n",
    "my $xyz = $a->get_xyz();"
   ]
  },
  {
   "cell_type": "code",
   "execution_count": 7,
   "metadata": {},
   "outputs": [
    {
     "name": "stdout",
     "output_type": "stream",
     "text": [
      "ATOM-0: (2.46199989318848, 8.16300010681152, 31.2049999237061)\n",
      "ATOM-1: (2.11199998855591, 9.49400043487549, 30.6469993591309)\n",
      "ATOM-2: (2.09100008010864, 9.53299999237061, 29.1200008392334)\n",
      "ATOM-3: (2.37199997901917, 8.52499961853027, 28.4759998321533)\n",
      "ATOM-4: (3.03999996185303, 10.5579996109009, 31.261999130249)\n",
      "ATOM-5: (2.60500001907349, 10.8409996032715, 32.701000213623)\n",
      "ATOM-6: (1.95200002193451, 9.92599964141846, 33.2509994506836)\n",
      "ATOM-7: (2.83500003814697, 11.9750003814697, 33.1559982299805)\n",
      "ATOM-8: (1.70299994945526, 10.6780004501343, 28.5419998168945)\n",
      "ATOM-9: (2.03299999237061, 11.0369997024536, 27.1509990692139)\n",
      "ATOM-10: (3.54500007629395, 11.3240003585815, 27.0300006866455)\n"
     ]
    }
   ],
   "source": [
    "my $i = 0;\n",
    "for ( @$xyz ) {\n",
    "   print \"ATOM-$i: ($_->[0], $_->[1], $_->[2])\\n\";\n",
    "   $i=$i+1;\n",
    "   if ($i > 10) {\n",
    "        last;\n",
    "   }\n",
    "}"
   ]
  },
  {
   "cell_type": "code",
   "execution_count": 8,
   "metadata": {},
   "outputs": [
    {
     "data": {
      "text/plain": [
       "1867"
      ]
     },
     "execution_count": 8,
     "metadata": {},
     "output_type": "execute_result"
    }
   ],
   "source": [
    "$a->n_atoms()"
   ]
  },
  {
   "cell_type": "code",
   "execution_count": 9,
   "metadata": {},
   "outputs": [
    {
     "data": {
      "text/plain": [
       "236"
      ]
     },
     "execution_count": 9,
     "metadata": {},
     "output_type": "execute_result"
    }
   ],
   "source": [
    "$a->n_residues()"
   ]
  },
  {
   "cell_type": "code",
   "execution_count": 10,
   "metadata": {},
   "outputs": [
    {
     "data": {
      "text/plain": [
       "L"
      ]
     },
     "execution_count": 10,
     "metadata": {},
     "output_type": "execute_result"
    }
   ],
   "source": [
    "$a->get_chain_names()->[0]"
   ]
  },
  {
   "cell_type": "code",
   "execution_count": null,
   "metadata": {},
   "outputs": [],
   "source": []
  }
 ],
 "metadata": {
  "kernelspec": {
   "display_name": "IPerl 0.009",
   "language": "perl",
   "name": "iperl"
  },
  "language_info": {
   "file_extension": ".pl",
   "mimetype": "text/x-perl",
   "name": "perl",
   "version": "5.29.0"
  }
 },
 "nbformat": 4,
 "nbformat_minor": 2
}
