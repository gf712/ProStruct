{
 "cells": [
  {
   "cell_type": "code",
   "execution_count": 1,
   "metadata": {},
   "outputs": [],
   "source": [
    "#pragma cling add_include_path(\"/Users/ghoben/ProStruct/src\")\n",
    "#pragma cling add_include_path(\"/Users/ghoben/ProStruct/build/src\")\n",
    "#pragma cling add_include_path(\"/Users/ghoben/ProStruct/third_party/fmt/include\")\n",
    "#pragma cling add_include_path(\"/Users/ghoben/armadillo-code/include\")\n",
    "#pragma cling add_library_path(\"/Users/ghoben/ProStruct/build/src/prostruct\")\n",
    "#pragma cling load(\"prostruct\")"
   ]
  },
  {
   "cell_type": "code",
   "execution_count": 2,
   "metadata": {},
   "outputs": [],
   "source": [
    "#include \"prostruct/prostruct.h\""
   ]
  },
  {
   "cell_type": "code",
   "execution_count": 3,
   "metadata": {},
   "outputs": [],
   "source": [
    "using namespace prostruct;"
   ]
  },
  {
   "cell_type": "code",
   "execution_count": 4,
   "metadata": {},
   "outputs": [],
   "source": [
    "auto pdb = PDB<float>(\"../../test.pdb\");"
   ]
  },
  {
   "cell_type": "code",
   "execution_count": 5,
   "metadata": {},
   "outputs": [],
   "source": [
    "auto radii = pdb.get_radii(); // arma::Col<float>\n",
    "auto ks = pdb.compute_kabsch_sander() // arma::Mat<float>"
   ]
  },
  {
   "cell_type": "code",
   "execution_count": 6,
   "metadata": {},
   "outputs": [
    {
     "name": "stdout",
     "output_type": "stream",
     "text": [
      "   1.6500\n",
      "   1.8700\n",
      "   1.7600\n",
      "   1.4000\n",
      "   1.8700\n",
      "   1.7600\n",
      "   1.4000\n",
      "   1.4000\n",
      "   1.6500\n",
      "   1.8700\n",
      "   1.7600\n",
      "\n"
     ]
    }
   ],
   "source": [
    "std::cout << radii(arma::span(0,10)) << \"\\n\";"
   ]
  },
  {
   "cell_type": "code",
   "execution_count": 7,
   "metadata": {},
   "outputs": [],
   "source": [
    "auto xyz = pdb.get_xyz();"
   ]
  },
  {
   "cell_type": "code",
   "execution_count": 8,
   "metadata": {},
   "outputs": [
    {
     "name": "stdout",
     "output_type": "stream",
     "text": [
      "    2.4620    8.1630   31.2050\n",
      "    2.1120    9.4940   30.6470\n",
      "    2.0910    9.5330   29.1200\n",
      "    2.3720    8.5250   28.4760\n",
      "    3.0400   10.5580   31.2620\n",
      "    2.6050   10.8410   32.7010\n",
      "    1.9520    9.9260   33.2510\n",
      "    2.8350   11.9750   33.1560\n",
      "    1.7030   10.6780   28.5420\n",
      "    2.0330   11.0370   27.1510\n",
      "    3.5450   11.3240   27.0300\n",
      "\n"
     ]
    }
   ],
   "source": [
    "std::cout << xyz(arma::span::all, arma::span(0,10)).t() << \"\\n\";"
   ]
  },
  {
   "cell_type": "code",
   "execution_count": 9,
   "metadata": {},
   "outputs": [
    {
     "data": {
      "text/plain": [
       "\"<prostruct.PDB float precision, with 1867 atoms, 236 residues at 0x108b54540>\""
      ]
     },
     "execution_count": 9,
     "metadata": {},
     "output_type": "execute_result"
    }
   ],
   "source": [
    "pdb.to_string()"
   ]
  },
  {
   "cell_type": "code",
   "execution_count": null,
   "metadata": {},
   "outputs": [],
   "source": []
  }
 ],
 "metadata": {
  "kernelspec": {
   "display_name": "C++14",
   "language": "C++14",
   "name": "xeus-cling-cpp14"
  },
  "language_info": {
   "codemirror_mode": "text/x-c++src",
   "file_extension": ".cpp",
   "mimetype": "text/x-c++src",
   "name": "c++",
   "version": "-std=c++14"
  }
 },
 "nbformat": 4,
 "nbformat_minor": 2
}
